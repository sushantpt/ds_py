{
 "cells": [
  {
   "cell_type": "code",
   "execution_count": 62,
   "id": "6f254039-1d80-474d-8f9d-dc44c018b1b0",
   "metadata": {},
   "outputs": [],
   "source": [
    "# Linked List     \n",
    "class Element:\n",
    "    def __init__(self, value): \n",
    "        self.value = value  # node le represent garni value\n",
    "        self.next = None # Next Node. Reference to the next element\n",
    "        \n",
    "class LinkedList:\n",
    "    def __init__(self, head = None):\n",
    "        self.head = head\n",
    "        \n",
    "    def append(self, new_element): # function to add new values in our linked list\n",
    "        current = self.head       # start from head.\n",
    "        if self.head:    # if head is not null\n",
    "            while current.next:  # while there is a reference. Meaning there is a \"While there is a next value\"\n",
    "                current = current.next\n",
    "            current.next = new_element  # set reference of the tail to the new element (Apppending)\n",
    "        else:\n",
    "            self.head= new_element   #set new element as head. This is executed only when our linked list is empty"
   ]
  },
  {
   "cell_type": "code",
   "execution_count": 87,
   "id": "577edc9b-005a-4249-82af-b0ef72d51913",
   "metadata": {},
   "outputs": [
    {
     "name": "stdout",
     "output_type": "stream",
     "text": [
      "<__main__.Element object at 0x00000172EF34C760>\n",
      "1\n",
      "2\n",
      "3\n",
      "4\n",
      "5\n",
      "None\n"
     ]
    }
   ],
   "source": [
    "# Create some elements\n",
    "elem1 = Element(1)\n",
    "elem2 = Element(2)\n",
    "elem3 = Element(3)\n",
    "elem4 = Element(4)\n",
    "elem5 = Element(5)\n",
    "\n",
    "# pass element in linked list\n",
    "lnkdlst = LinkedList(elem1) # passing elem1's value which becomes head\n",
    "lnkdlst.append(elem2)  # append elements which will be at last (tail)\n",
    "lnkdlst.append(elem3)\n",
    "lnkdlst.append(elem4)\n",
    "lnkdlst.append(elem5)\n",
    "\n",
    "print(lnkdlst.head)\n",
    "print(lnkdlst.head.value)\n",
    "print(lnkdlst.head.next.value)\n",
    "print(lnkdlst.head.next.next.value)\n",
    "print(lnkdlst.head.next.next.next.value)\n",
    "print(lnkdlst.head.next.next.next.next.value)\n",
    "print(lnkdlst.head.next.next.next.next.next) # none. Reason: self.head = new_element which is empty or null"
   ]
  },
  {
   "cell_type": "code",
   "execution_count": 91,
   "id": "83e33dc7-01b1-4b5c-bf75-59cd11db2b24",
   "metadata": {},
   "outputs": [
    {
     "name": "stdout",
     "output_type": "stream",
     "text": [
      "1\n",
      "2\n",
      "3\n",
      "4\n",
      "5\n"
     ]
    }
   ],
   "source": [
    "# Traversing a Linked List (travel accross a linked list)\n",
    "current = lnkdlst.head     # current will be head (which is a starting point)\n",
    "while current:             # whenever current has a value\n",
    "    print(current.value)   # output - all elements   \n",
    "    current = current.next   # update current to traverse through all elements\n",
    "    "
   ]
  }
 ],
 "metadata": {
  "kernelspec": {
   "display_name": "Python 3",
   "language": "python",
   "name": "python3"
  },
  "language_info": {
   "codemirror_mode": {
    "name": "ipython",
    "version": 3
   },
   "file_extension": ".py",
   "mimetype": "text/x-python",
   "name": "python",
   "nbconvert_exporter": "python",
   "pygments_lexer": "ipython3",
   "version": "3.8.8"
  }
 },
 "nbformat": 4,
 "nbformat_minor": 5
}
