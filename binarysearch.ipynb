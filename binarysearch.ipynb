{
 "cells": [
  {
   "cell_type": "code",
   "execution_count": null,
   "id": "cddd3989-705f-4b7b-a55c-c8748123acf3",
   "metadata": {},
   "outputs": [],
   "source": [
    "# binary search (itterative implementation)  \n",
    "from random import randint\n",
    "l = [randint(1,50) for i in range(20)]\n",
    "l_sorted = sorted(l)\n",
    "print(l_sorted)\n",
    "def binary_implementation(dataset, to_find, low, high):\n",
    "    while low <= high:\n",
    "        mid = (low + high)//2\n",
    "        if to_find == dataset[mid]:\n",
    "            return True\n",
    "        elif to_find < dataset[mid]:\n",
    "            high = mid - 1\n",
    "        elif to_find > dataset[mid]:\n",
    "            low = mid + 1\n",
    "    return False\n",
    "result = binary_implementation(l_sorted, 12, 0, (len(l_sorted)-1))\n",
    "print(result)"
   ]
  },
  {
   "cell_type": "code",
   "execution_count": 5,
   "id": "a3aa03a6-2549-4afa-a17b-18dc198015c0",
   "metadata": {},
   "outputs": [
    {
     "name": "stdout",
     "output_type": "stream",
     "text": [
      "[5, 7, 9, 10, 13, 15, 18, 19, 22, 23, 30, 33, 34, 36, 37, 39, 42, 43, 43, 49]\n",
      "True\n"
     ]
    }
   ],
   "source": [
    "# binary search (recursive implementation)\n",
    "from random import randint\n",
    "l = [randint(1,50) for i in range(20)]\n",
    "ll = sorted(l)\n",
    "print(ll)\n",
    "def binary_implementation(dataset, to_find, low, high):\n",
    "    if low <= high:\n",
    "        mid = (low + high) // 2\n",
    "        if to_find == dataset[mid]:\n",
    "            return True\n",
    "        elif to_find < dataset[mid]:\n",
    "            return binary_implementation(dataset, to_find, low, mid - 1)\n",
    "        elif to_find > dataset[mid]:\n",
    "            return binary_implementation(dataset, to_find, mid + 1, high)\n",
    "    else:\n",
    "        return False\n",
    "result1 = binary_implementation(ll, 23, 0, len(ll)-1)\n",
    "print(result1)"
   ]
  }
 ],
 "metadata": {
  "kernelspec": {
   "display_name": "Python 3",
   "language": "python",
   "name": "python3"
  },
  "language_info": {
   "codemirror_mode": {
    "name": "ipython",
    "version": 3
   },
   "file_extension": ".py",
   "mimetype": "text/x-python",
   "name": "python",
   "nbconvert_exporter": "python",
   "pygments_lexer": "ipython3",
   "version": "3.8.8"
  }
 },
 "nbformat": 4,
 "nbformat_minor": 5
}
