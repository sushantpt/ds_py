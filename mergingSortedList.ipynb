{
 "cells": [
  {
   "cell_type": "code",
   "execution_count": 1,
   "id": "58a82722-dcb6-4938-becf-d21fe2e01888",
   "metadata": {},
   "outputs": [
    {
     "name": "stdout",
     "output_type": "stream",
     "text": [
      "List 1: [24, 97, 41, 80, 31, 91, 14, 65, 61, 56]\n",
      "List 2: [326, 434, 424, 342, 230, 281, 354, 444, 256, 202]\n",
      "List after merging: [24, 97, 41, 80, 31, 91, 14, 65, 61, 56, 326, 434, 424, 342, 230, 281, 354, 444, 256, 202]\n"
     ]
    }
   ],
   "source": [
    "# merging two sorted list\n",
    "from random import randint\n",
    "list1 = [randint(1,100) for i in range(10)]\n",
    "list2 = [randint(200, 500) for i in range(10)]\n",
    "print(\"List 1:\", list1)\n",
    "print(\"List 2:\", list2)\n",
    "def merge(a,b):\n",
    "    c = a + b\n",
    "    i = 0\n",
    "    j = 0\n",
    "    k = 0\n",
    "    while i < len(a) and j < len(b):\n",
    "        if a[i] < b[j]:\n",
    "            c[k] = a[i]\n",
    "            i += 1\n",
    "            k += 1\n",
    "        else:\n",
    "            c[k] = b[j]\n",
    "            j += 1\n",
    "            k += 1\n",
    "    while i < len(a):\n",
    "        c[k] = a[i]\n",
    "        k += 1\n",
    "        i += 1\n",
    "    while j < len(b):\n",
    "        c[k] = b[j]\n",
    "        k += 1\n",
    "        j += 1\n",
    "    return c\n",
    "result = merge(list1, list2)\n",
    "print(\"List after merging:\", result)"
   ]
  }
 ],
 "metadata": {
  "kernelspec": {
   "display_name": "Python 3",
   "language": "python",
   "name": "python3"
  },
  "language_info": {
   "codemirror_mode": {
    "name": "ipython",
    "version": 3
   },
   "file_extension": ".py",
   "mimetype": "text/x-python",
   "name": "python",
   "nbconvert_exporter": "python",
   "pygments_lexer": "ipython3",
   "version": "3.8.8"
  }
 },
 "nbformat": 4,
 "nbformat_minor": 5
}
