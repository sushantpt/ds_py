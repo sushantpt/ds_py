{
 "cells": [
  {
   "cell_type": "code",
   "execution_count": null,
   "id": "dd73c1a6-cc23-4573-8ed4-2db505031740",
   "metadata": {},
   "outputs": [],
   "source": [
    "# finding factorial no using loops. Time Complexity =  O(n)\n",
    "def factorial(n):\n",
    "    start = 1\n",
    "    for i in range(n, 0, -1):\n",
    "        start = start * i\n",
    "    return start\n",
    "asking_user = int(input(\"Enter a number: \"))\n",
    "print(factorial(asking_user))"
   ]
  },
  {
   "cell_type": "code",
   "execution_count": null,
   "id": "096ca864-ede9-47b8-b59b-baffb9fdb5d3",
   "metadata": {},
   "outputs": [],
   "source": []
  }
 ],
 "metadata": {
  "kernelspec": {
   "display_name": "Python 3",
   "language": "python",
   "name": "python3"
  },
  "language_info": {
   "codemirror_mode": {
    "name": "ipython",
    "version": 3
   },
   "file_extension": ".py",
   "mimetype": "text/x-python",
   "name": "python",
   "nbconvert_exporter": "python",
   "pygments_lexer": "ipython3",
   "version": "3.8.8"
  }
 },
 "nbformat": 4,
 "nbformat_minor": 5
}
